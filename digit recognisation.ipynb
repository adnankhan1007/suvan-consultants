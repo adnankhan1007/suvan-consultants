{
 "cells": [
  {
   "cell_type": "code",
   "execution_count": 1,
   "id": "a5e2f4cf",
   "metadata": {},
   "outputs": [],
   "source": [
    "import numpy as np\n",
    "import pandas as pd\n",
    "from sklearn.datasets import fetch_openml\n"
   ]
  },
  {
   "cell_type": "code",
   "execution_count": 2,
   "id": "af0e8f7f",
   "metadata": {},
   "outputs": [],
   "source": [
    "data1=fetch_openml('mnist_784')"
   ]
  },
  {
   "cell_type": "code",
   "execution_count": 3,
   "id": "1aa2c060",
   "metadata": {},
   "outputs": [],
   "source": [
    "x=data1['data']"
   ]
  },
  {
   "cell_type": "code",
   "execution_count": 4,
   "id": "729e26ba",
   "metadata": {},
   "outputs": [],
   "source": [
    "digit=x.to_numpy()[25252]"
   ]
  },
  {
   "cell_type": "code",
   "execution_count": 5,
   "id": "9d217385",
   "metadata": {},
   "outputs": [],
   "source": [
    "digit_image=digit.reshape(28,28)"
   ]
  },
  {
   "cell_type": "code",
   "execution_count": 6,
   "id": "a1812eb1",
   "metadata": {},
   "outputs": [],
   "source": [
    "import matplotlib\n",
    "import matplotlib.pyplot as plt"
   ]
  },
  {
   "cell_type": "code",
   "execution_count": 7,
   "id": "68a6a216",
   "metadata": {},
   "outputs": [
    {
     "data": {
      "text/plain": [
       "<matplotlib.image.AxesImage at 0x1f60058c0a0>"
      ]
     },
     "execution_count": 7,
     "metadata": {},
     "output_type": "execute_result"
    },
    {
     "data": {
      "image/png": "[encoded data removed]",
      "text/plain": [
       "<Figure size 432x288 with 1 Axes>"
      ]
     },
     "metadata": {
      "needs_background": "light"
     },
     "output_type": "display_data"
    }
   ],
   "source": [
    "plt.imshow(digit_image)"
   ]
  },
  {
   "cell_type": "code",
   "execution_count": 8,
   "id": "07a50e7c",
   "metadata": {},
   "outputs": [],
   "source": [
    "y=data1['target']"
   ]
  },
  {
   "cell_type": "code",
   "execution_count": 9,
   "id": "2b86c478",
   "metadata": {},
   "outputs": [
    {
     "data": {
      "text/plain": [
       "'0'"
      ]
     },
     "execution_count": 9,
     "metadata": {},
     "output_type": "execute_result"
    }
   ],
   "source": [
    "y[25252]"
   ]
  },
  {
   "cell_type": "code",
   "execution_count": 10,
   "id": "68f6a51f",
   "metadata": {},
   "outputs": [],
   "source": [
    "##x_train,y_train=x[:2500],y[:2500]"
   ]
  },
  {
   "cell_type": "code",
   "execution_count": 11,
   "id": "a68caadd",
   "metadata": {},
   "outputs": [],
   "source": [
    "##x_test,y_test=x[2500:5000],y[2500:5000]\n"
   ]
  },
  {
   "cell_type": "code",
   "execution_count": 12,
   "id": "71a59dbc",
   "metadata": {},
   "outputs": [],
   "source": [
    "##y_test=y_test.astype(np.int8)\n",
    "##y_test_2=y_test==2"
   ]
  },
  {
   "cell_type": "code",
   "execution_count": 13,
   "id": "c9b5fcd2",
   "metadata": {},
   "outputs": [],
   "source": [
    "##y_train_2=y_train.astype(np.int8)\n",
    "##Y_train_2=y_train==2"
   ]
  },
  {
   "cell_type": "code",
   "execution_count": 14,
   "id": "f56734b7",
   "metadata": {},
   "outputs": [],
   "source": [
    "#y_test_2"
   ]
  },
  {
   "cell_type": "code",
   "execution_count": 15,
   "id": "eb815b20",
   "metadata": {},
   "outputs": [],
   "source": [
    "from sklearn.model_selection import train_test_split\n",
    "from sklearn.svm import LinearSVC"
   ]
  },
  {
   "cell_type": "code",
   "execution_count": 16,
   "id": "5fb01ba3",
   "metadata": {},
   "outputs": [],
   "source": [
    "svm=LinearSVC()"
   ]
  },
  {
   "cell_type": "code",
   "execution_count": 20,
   "id": "d0e28075",
   "metadata": {},
   "outputs": [],
   "source": [
    "x_train,x_test,y_train,y_test=train_test_split(x,y,test_size=0.3)"
   ]
  },
  {
   "cell_type": "code",
   "execution_count": 21,
   "id": "f88d36d3",
   "metadata": {},
   "outputs": [
    {
     "name": "stderr",
     "output_type": "stream",
     "text": [
      "C:\\Users\\Adnan Mohammad Khan\\anaconda3\\lib\\site-packages\\sklearn\\svm\\_base.py:985: ConvergenceWarning: Liblinear failed to converge, increase the number of iterations.\n",
      "  warnings.warn(\"Liblinear failed to converge, increase \"\n"
     ]
    },
    {
     "data": {
      "text/plain": [
       "LinearSVC()"
      ]
     },
     "execution_count": 21,
     "metadata": {},
     "output_type": "execute_result"
    }
   ],
   "source": [
    "svm.fit(x_train,y_train)"
   ]
  },
  {
   "cell_type": "code",
   "execution_count": 22,
   "id": "1933ea95",
   "metadata": {},
   "outputs": [
    {
     "data": {
      "text/plain": [
       "array(['0'], dtype=object)"
      ]
     },
     "execution_count": 22,
     "metadata": {},
     "output_type": "execute_result"
    }
   ],
   "source": [
    "svm.predict([digit])"
   ]
  },
  {
   "cell_type": "code",
   "execution_count": 23,
   "id": "a98ca67b",
   "metadata": {},
   "outputs": [
    {
     "data": {
      "text/plain": [
       "0.8643809523809524"
      ]
     },
     "execution_count": 23,
     "metadata": {},
     "output_type": "execute_result"
    }
   ],
   "source": [
    "svm.score(x_test,y_test)"
   ]
  },
  {
   "cell_type": "code",
   "execution_count": 24,
   "id": "afdd59e6",
   "metadata": {},
   "outputs": [],
   "source": [
    "from sklearn.model_selection import cross_val_score"
   ]
  },
  {
   "cell_type": "code",
   "execution_count": 27,
   "id": "f825d1fa",
   "metadata": {},
   "outputs": [
    {
     "name": "stderr",
     "output_type": "stream",
     "text": [
      "C:\\Users\\Adnan Mohammad Khan\\anaconda3\\lib\\site-packages\\sklearn\\svm\\_base.py:985: ConvergenceWarning: Liblinear failed to converge, increase the number of iterations.\n",
      "  warnings.warn(\"Liblinear failed to converge, increase \"\n",
      "C:\\Users\\Adnan Mohammad Khan\\anaconda3\\lib\\site-packages\\sklearn\\svm\\_base.py:985: ConvergenceWarning: Liblinear failed to converge, increase the number of iterations.\n",
      "  warnings.warn(\"Liblinear failed to converge, increase \"\n",
      "C:\\Users\\Adnan Mohammad Khan\\anaconda3\\lib\\site-packages\\sklearn\\svm\\_base.py:985: ConvergenceWarning: Liblinear failed to converge, increase the number of iterations.\n",
      "  warnings.warn(\"Liblinear failed to converge, increase \"\n",
      "C:\\Users\\Adnan Mohammad Khan\\anaconda3\\lib\\site-packages\\sklearn\\svm\\_base.py:985: ConvergenceWarning: Liblinear failed to converge, increase the number of iterations.\n",
      "  warnings.warn(\"Liblinear failed to converge, increase \"\n",
      "C:\\Users\\Adnan Mohammad Khan\\anaconda3\\lib\\site-packages\\sklearn\\svm\\_base.py:985: ConvergenceWarning: Liblinear failed to converge, increase the number of iterations.\n",
      "  warnings.warn(\"Liblinear failed to converge, increase \"\n"
     ]
    }
   ],
   "source": [
    "val=cross_val_score(svm,x_train,y_train,scoring=\"accuracy\")"
   ]
  },
  {
   "cell_type": "code",
   "execution_count": 26,
   "id": "4407d5bc",
   "metadata": {},
   "outputs": [
    {
     "data": {
      "text/plain": [
       "0.8385929681889815"
      ]
     },
     "execution_count": 26,
     "metadata": {},
     "output_type": "execute_result"
    }
   ],
   "source": [
    "val.mean()"
   ]
  },
  {
   "cell_type": "code",
   "execution_count": 28,
   "id": "833f3da9",
   "metadata": {},
   "outputs": [],
   "source": [
    "from sklearn.tree import DecisionTreeClassifier"
   ]
  },
  {
   "cell_type": "code",
   "execution_count": 29,
   "id": "0f9541bf",
   "metadata": {},
   "outputs": [],
   "source": [
    "tree=DecisionTreeClassifier()"
   ]
  },
  {
   "cell_type": "code",
   "execution_count": 30,
   "id": "09d8364d",
   "metadata": {},
   "outputs": [
    {
     "data": {
      "text/plain": [
       "DecisionTreeClassifier()"
      ]
     },
     "execution_count": 30,
     "metadata": {},
     "output_type": "execute_result"
    }
   ],
   "source": [
    "tree.fit(x_train,y_train)"
   ]
  },
  {
   "cell_type": "code",
   "execution_count": 31,
   "id": "7e9a39af",
   "metadata": {},
   "outputs": [
    {
     "data": {
      "text/plain": [
       "array(['0'], dtype=object)"
      ]
     },
     "execution_count": 31,
     "metadata": {},
     "output_type": "execute_result"
    }
   ],
   "source": [
    "tree.predict([digit])"
   ]
  },
  {
   "cell_type": "code",
   "execution_count": 32,
   "id": "80a787f5",
   "metadata": {},
   "outputs": [
    {
     "data": {
      "text/plain": [
       "0.8674285714285714"
      ]
     },
     "execution_count": 32,
     "metadata": {},
     "output_type": "execute_result"
    }
   ],
   "source": [
    "tree.score(x_test,y_test)"
   ]
  },
  {
   "cell_type": "code",
   "execution_count": 33,
   "id": "f8969a82",
   "metadata": {},
   "outputs": [],
   "source": [
    "val1=cross_val_score(tree,x_train,y_train,cv=3,scoring=\"accuracy\")"
   ]
  },
  {
   "cell_type": "code",
   "execution_count": 34,
   "id": "81681249",
   "metadata": {},
   "outputs": [
    {
     "data": {
      "text/plain": [
       "0.8540000115399561"
      ]
     },
     "execution_count": 34,
     "metadata": {},
     "output_type": "execute_result"
    }
   ],
   "source": [
    "val1.mean()"
   ]
  },
  {
   "cell_type": "code",
   "execution_count": 35,
   "id": "97943fa6",
   "metadata": {},
   "outputs": [],
   "source": [
    "from sklearn.ensemble import RandomForestClassifier"
   ]
  },
  {
   "cell_type": "code",
   "execution_count": 36,
   "id": "71cbcd67",
   "metadata": {},
   "outputs": [],
   "source": [
    "forest=RandomForestClassifier()"
   ]
  },
  {
   "cell_type": "code",
   "execution_count": 37,
   "id": "4ab39109",
   "metadata": {},
   "outputs": [
    {
     "data": {
      "text/plain": [
       "RandomForestClassifier()"
      ]
     },
     "execution_count": 37,
     "metadata": {},
     "output_type": "execute_result"
    }
   ],
   "source": [
    "forest.fit(x_train,y_train)"
   ]
  },
  {
   "cell_type": "code",
   "execution_count": 38,
   "id": "b4fbe00a",
   "metadata": {},
   "outputs": [],
   "source": [
    "val3=cross_val_score(forest,x_train,y_train,cv=3,scoring=\"accuracy\")"
   ]
  },
  {
   "cell_type": "code",
   "execution_count": 39,
   "id": "0cfb74f5",
   "metadata": {},
   "outputs": [
    {
     "data": {
      "text/plain": [
       "0.9636938787702324"
      ]
     },
     "execution_count": 39,
     "metadata": {},
     "output_type": "execute_result"
    }
   ],
   "source": [
    "val3.mean()"
   ]
  },
  {
   "cell_type": "code",
   "execution_count": 40,
   "id": "7336cf8e",
   "metadata": {},
   "outputs": [
    {
     "data": {
      "text/plain": [
       "array(['0'], dtype=object)"
      ]
     },
     "execution_count": 40,
     "metadata": {},
     "output_type": "execute_result"
    }
   ],
   "source": [
    "forest.predict([digit])"
   ]
  },
  {
   "cell_type": "code",
   "execution_count": 41,
   "id": "94c43958",
   "metadata": {},
   "outputs": [
    {
     "data": {
      "text/plain": [
       "0.968"
      ]
     },
     "execution_count": 41,
     "metadata": {},
     "output_type": "execute_result"
    }
   ],
   "source": [
    "forest.score(x_test,y_test)"
   ]
  },
  {
   "cell_type": "markdown",
   "id": "b57b79b8",
   "metadata": {},
   "source": [
    "Therefore the Linear Suport vector machine model gaves accuracy of 82%\n",
    "Decisin tree classifier gaves accuracy of 85%\n",
    "RandomForest Classifier gaves accuracy of 96%"
   ]
  }
 ],
 "metadata": {
  "kernelspec": {
   "display_name": "Python 3",
   "language": "python",
   "name": "python3"
  },
  "language_info": {
   "codemirror_mode": {
    "name": "ipython",
    "version": 3
   },
   "file_extension": ".py",
   "mimetype": "text/x-python",
   "name": "python",
   "nbconvert_exporter": "python",
   "pygments_lexer": "ipython3",
   "version": "3.8.8"
  }
 },
 "nbformat": 4,
 "nbformat_minor": 5
}
